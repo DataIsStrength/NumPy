{
 "cells": [
  {
   "cell_type": "markdown",
   "metadata": {},
   "source": [
    "NumPy-逻辑运算"
   ]
  },
  {
   "cell_type": "code",
   "execution_count": 1,
   "metadata": {},
   "outputs": [],
   "source": [
    "#导入NumPy包\n",
    "import numpy as np"
   ]
  },
  {
   "cell_type": "code",
   "execution_count": 2,
   "metadata": {},
   "outputs": [
    {
     "name": "stdout",
     "output_type": "stream",
     "text": [
      "[[-0.7773289  -0.33241368 -0.31315256 -0.41132991 -0.30099877  0.10015177\n",
      "  -0.58741438  0.97220755 -0.43664326  0.38214878]\n",
      " [-0.73745091  2.42777292 -1.25499059  0.75572372  1.56885842  0.02267395\n",
      "  -0.89094125 -1.10576445  0.22037364 -1.21640691]\n",
      " [-0.12684788  0.81593343 -0.39715472 -1.45689597 -0.16670359  0.85286269\n",
      "   0.40227412 -0.34417762  0.13969955 -0.43814862]\n",
      " [ 0.38168908 -0.44377272  0.25149542  0.06711329 -0.56549006  0.76340517\n",
      "  -0.25316129 -0.30518148 -0.10496188  0.12291369]\n",
      " [-1.29975642 -0.38308717 -0.38860053  1.59151695 -0.10606271 -0.75157145\n",
      "   1.6475614  -1.74770559 -1.81799789  0.96810669]\n",
      " [ 0.05718994  1.75340672 -1.1834256  -0.59460826 -1.63133366 -0.44615246\n",
      "   0.51758625 -0.5064715  -0.30956514  0.91785651]\n",
      " [-0.0849626  -0.09855762 -0.21203616 -0.4677579   1.29672188  0.62396054\n",
      "  -0.8353056  -0.61970054  0.19219214  0.20618295]\n",
      " [-1.56510802 -0.91103404  0.09890383  0.3806182   0.92581843  0.97611553\n",
      "   1.18379988  1.53526011  1.69834042 -1.82639315]]\n"
     ]
    }
   ],
   "source": [
    "#案例：随机生成8只股票2周的交易日涨幅数据\n",
    "\n",
    "#生成形状为(8,10)的标准正态随机数组\n",
    "stock_change=np.random.normal(loc=0,scale=1,size=(8,10))\n",
    "print(stock_change)"
   ]
  },
  {
   "cell_type": "code",
   "execution_count": 3,
   "metadata": {},
   "outputs": [
    {
     "data": {
      "text/plain": [
       "array([[False, False, False, False, False, False, False,  True, False,\n",
       "        False],\n",
       "       [False,  True, False,  True,  True, False, False, False, False,\n",
       "        False],\n",
       "       [False,  True, False, False, False,  True, False, False, False,\n",
       "        False],\n",
       "       [False, False, False, False, False,  True, False, False, False,\n",
       "        False],\n",
       "       [False, False, False,  True, False, False,  True, False, False,\n",
       "         True],\n",
       "       [False,  True, False, False, False, False,  True, False, False,\n",
       "         True],\n",
       "       [False, False, False, False,  True,  True, False, False, False,\n",
       "        False],\n",
       "       [False, False, False, False,  True,  True,  True,  True,  True,\n",
       "        False]])"
      ]
     },
     "execution_count": 3,
     "metadata": {},
     "output_type": "execute_result"
    }
   ],
   "source": [
    "#逻辑判断，如果涨跌幅大于0.5就标记为True否则为False\n",
    "stock_change>0.5"
   ]
  },
  {
   "cell_type": "code",
   "execution_count": 4,
   "metadata": {},
   "outputs": [
    {
     "name": "stdout",
     "output_type": "stream",
     "text": [
      "[[-0.7773289  -0.33241368 -0.31315256 -0.41132991 -0.30099877  0.10015177\n",
      "  -0.58741438  1.         -0.43664326  0.38214878]\n",
      " [-0.73745091  1.         -1.25499059  1.          1.          0.02267395\n",
      "  -0.89094125 -1.10576445  0.22037364 -1.21640691]\n",
      " [-0.12684788  1.         -0.39715472 -1.45689597 -0.16670359  1.\n",
      "   0.40227412 -0.34417762  0.13969955 -0.43814862]\n",
      " [ 0.38168908 -0.44377272  0.25149542  0.06711329 -0.56549006  1.\n",
      "  -0.25316129 -0.30518148 -0.10496188  0.12291369]\n",
      " [-1.29975642 -0.38308717 -0.38860053  1.         -0.10606271 -0.75157145\n",
      "   1.         -1.74770559 -1.81799789  1.        ]\n",
      " [ 0.05718994  1.         -1.1834256  -0.59460826 -1.63133366 -0.44615246\n",
      "   1.         -0.5064715  -0.30956514  1.        ]\n",
      " [-0.0849626  -0.09855762 -0.21203616 -0.4677579   1.          1.\n",
      "  -0.8353056  -0.61970054  0.19219214  0.20618295]\n",
      " [-1.56510802 -0.91103404  0.09890383  0.3806182   1.          1.\n",
      "   1.          1.          1.         -1.82639315]]\n"
     ]
    }
   ],
   "source": [
    "#索引大于0.5的元素并修改为1.1\n",
    "stock_change[stock_change>0.5]=1\n",
    "print(stock_change)"
   ]
  },
  {
   "cell_type": "code",
   "execution_count": 5,
   "metadata": {},
   "outputs": [
    {
     "data": {
      "text/plain": [
       "False"
      ]
     },
     "execution_count": 5,
     "metadata": {},
     "output_type": "execute_result"
    }
   ],
   "source": [
    "#通用判断函数\n",
    "\n",
    "#判断前3只股票在前5天中的每一天是否全部上涨\n",
    "#np.all()只要有一个False就返回False，只有全部是True才返回True\n",
    "np.all(stock_change[0:2,0:5]>0)"
   ]
  },
  {
   "cell_type": "code",
   "execution_count": 6,
   "metadata": {},
   "outputs": [
    {
     "data": {
      "text/plain": [
       "True"
      ]
     },
     "execution_count": 6,
     "metadata": {},
     "output_type": "execute_result"
    }
   ],
   "source": [
    "#判断前3只股票在前5天中是否有任何一只在任意一天上涨\n",
    "#np.any()只要有一个True就返回True，只有全部是False才返回False\n",
    "np.any(stock_change[0:2,0:5]>0)"
   ]
  },
  {
   "cell_type": "code",
   "execution_count": 7,
   "metadata": {},
   "outputs": [
    {
     "data": {
      "text/plain": [
       "array([[0, 0, 0, 0],\n",
       "       [0, 1, 0, 1],\n",
       "       [0, 1, 0, 0],\n",
       "       [1, 0, 1, 1]])"
      ]
     },
     "execution_count": 7,
     "metadata": {},
     "output_type": "execute_result"
    }
   ],
   "source": [
    "#三元运算符\n",
    "\n",
    "'''\n",
    "三元运算符用于根据一定条件给NumPy数组的元素赋值，具体如下：\n",
    "np.where(判断条件,布尔值为True的元素的赋值,布尔值为False的元素的赋值)\n",
    "'''\n",
    "\n",
    "#判断前4只股票前4天的涨跌幅，大于0的赋值为1，否则赋值为0\n",
    "array=stock_change[:4,:4]\n",
    "np.where(array>0,1,0)"
   ]
  },
  {
   "cell_type": "code",
   "execution_count": 8,
   "metadata": {},
   "outputs": [
    {
     "name": "stdout",
     "output_type": "stream",
     "text": [
      "[[0 0 0 0]\n",
      " [0 0 0 0]\n",
      " [0 0 0 0]\n",
      " [0 0 0 0]]\n",
      "[[1 1 1 1]\n",
      " [1 1 1 1]\n",
      " [1 1 1 1]\n",
      " [1 1 1 1]]\n"
     ]
    }
   ],
   "source": [
    "#多个条件的逻辑运算\n",
    "\n",
    "#判断前4只股票前4天的涨跌幅，大于0.5并且小于1的，赋值为1，否则为赋值为0\n",
    "#np.logical_and()\n",
    "print(np.where(np.logical_and(array>0.5,array<1),1,0))\n",
    "\n",
    "#判断前4只股票前4天的涨跌幅，大于0.5或者小于1的，赋值为1，否则为赋值为0\n",
    "#np.logical_or()\n",
    "print(np.where(np.logical_or(array>0.5,array<1),1,0))"
   ]
  }
 ],
 "metadata": {
  "kernelspec": {
   "display_name": "Python 3",
   "language": "python",
   "name": "python3"
  },
  "language_info": {
   "codemirror_mode": {
    "name": "ipython",
    "version": 3
   },
   "file_extension": ".py",
   "mimetype": "text/x-python",
   "name": "python",
   "nbconvert_exporter": "python",
   "pygments_lexer": "ipython3",
   "version": "3.8.10"
  }
 },
 "nbformat": 4,
 "nbformat_minor": 4
}
