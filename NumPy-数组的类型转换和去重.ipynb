{
 "cells": [
  {
   "cell_type": "markdown",
   "metadata": {},
   "source": [
    "NumPy-数组的类型转换和去重"
   ]
  },
  {
   "cell_type": "code",
   "execution_count": 1,
   "metadata": {},
   "outputs": [],
   "source": [
    "#导入NumPy包\n",
    "import numpy as np"
   ]
  },
  {
   "cell_type": "code",
   "execution_count": 2,
   "metadata": {},
   "outputs": [
    {
     "name": "stdout",
     "output_type": "stream",
     "text": [
      "[[ 0.3673164   1.11701367  0.59900347 -1.63575254  0.92726691  1.78770256\n",
      "   0.23636704 -0.51392777  0.17250503  0.58604029]\n",
      " [ 0.77116636 -0.39642322 -0.63001329 -0.13083647 -0.36755557 -1.66833671\n",
      "  -0.29382363 -0.08731849 -0.9598559   1.66941733]\n",
      " [ 0.41364787 -1.19441922  1.2748335   0.42040674  0.44001274 -0.61829358\n",
      "   0.64353463 -0.60128354  0.29623584 -1.45116206]\n",
      " [-0.3317491   2.43719062  0.42857804  0.86941232  1.28812156  0.36156558\n",
      "   0.29198522 -1.09387939  0.25086863  1.43119735]\n",
      " [ 0.27265976 -2.44396953  0.63388413  1.27719094  0.48596615 -0.30139939\n",
      "  -0.5801638  -0.20359254 -0.6730446   0.00933795]\n",
      " [ 1.04344172  0.98198229  0.35376427 -0.17678447 -0.62893938  0.07782625\n",
      "  -0.47430781 -0.97961059 -0.7450618  -0.43053945]\n",
      " [-1.29653918  1.13340312 -0.29177387 -0.833533   -0.27401544  0.98581956\n",
      "   0.36169401 -1.3928112   0.89946872 -0.29013165]\n",
      " [ 0.51352404  1.79555242 -0.53613266 -0.04606277  1.92484619 -1.12696073\n",
      "  -0.52286689  0.17581277  1.83610167 -1.58986485]]\n"
     ]
    }
   ],
   "source": [
    "#案例：随机生成8只股票2周的交易日涨幅数据\n",
    "\n",
    "#生成形状为(8,10)的标准正态随机数组\n",
    "stock_change=np.random.normal(loc=0,scale=1,size=(8,10))\n",
    "print(stock_change)"
   ]
  },
  {
   "cell_type": "code",
   "execution_count": 3,
   "metadata": {},
   "outputs": [
    {
     "data": {
      "text/plain": [
       "array([[ 0,  1,  0, -1,  0,  1,  0,  0,  0,  0],\n",
       "       [ 0,  0,  0,  0,  0, -1,  0,  0,  0,  1],\n",
       "       [ 0, -1,  1,  0,  0,  0,  0,  0,  0, -1],\n",
       "       [ 0,  2,  0,  0,  1,  0,  0, -1,  0,  1],\n",
       "       [ 0, -2,  0,  1,  0,  0,  0,  0,  0,  0],\n",
       "       [ 1,  0,  0,  0,  0,  0,  0,  0,  0,  0],\n",
       "       [-1,  1,  0,  0,  0,  0,  0, -1,  0,  0],\n",
       "       [ 0,  1,  0,  0,  1, -1,  0,  0,  1, -1]])"
      ]
     },
     "execution_count": 3,
     "metadata": {},
     "output_type": "execute_result"
    }
   ],
   "source": [
    "#转换为32位整型\n",
    "stock_change.astype('int32')"
   ]
  },
  {
   "cell_type": "code",
   "execution_count": 4,
   "metadata": {},
   "outputs": [
    {
     "data": {
      "text/plain": [
       "b'\\xbb\\xcf\\'\\xa3\\x1c\\x82\\xd7?w\\xc90\\xbaI\\xdf\\xf1?\\xf7F\\xc7Q\\t+\\xe3?\\x9a\\xa5K\\xdc\\n,\\xfa\\xbf\\x95\\xb93\\xa7+\\xac\\xed?xJ\\x10\\x00n\\x9a\\xfc?\\xd7\\x1a\\xcaoFA\\xce?\\xe2\\x06M\\xa5\\x18r\\xe0\\xbf\\xa6\\xf3\\x05\\x11\\xa5\\x14\\xc6?\\xf5O\\xe7\\x92\\xd7\\xc0\\xe2?\\xbd\\x9d\\xd4\\x13e\\xad\\xe8?\\x06\\xdcw\\x84\\xff^\\xd9\\xbfJ\\x12\\xe7\\xa0\\x11)\\xe4\\xbf\\x13\\x95\\xa0\\xd3?\\xbf\\xc0\\xbf\\xbe\\xac*\\xcd\\x07\\x86\\xd7\\xbf\"\\x03\\xb5\\xd6\\x81\\xb1\\xfa\\xbf-\\xf5u\\x9e\\x01\\xce\\xd2\\xbf\\xedJ\\x17;\\x81Z\\xb6\\xbf\\x82\\xa6\\xb1\\xb9#\\xb7\\xee\\xbfy\\xb6P\\xf3\\xee\\xb5\\xfa?\\xd1\\x85:\\xea4y\\xda?\\x10^\\xceTW\\x1c\\xf3\\xbf\\xd4\\x04\\xbc\\xd0\\xb7e\\xf4?\\x19\\x85u\\xa7\\xf1\\xe7\\xda?N\\xdeu6+)\\xdc? \\x96\\xe4\\x9e\\x0f\\xc9\\xe3\\xbf\\xcdD\\x17\\xf1\\xd5\\x97\\xe4?\\ts\\xae\\xf9\\xb6=\\xe3\\xbfz\\x8b\\n,\\x87\\xf5\\xd2?6\\x17\\x14\\xb4\\xf57\\xf7\\xbf\\xa8\\x06{\\x8e`;\\xd5\\xbfm\\xa7\\xc0\\xcb]\\x7f\\x03@\\x87\\xd3\\xea\\x96\\xd2m\\xdb?\\xcb\\x87\\xa5\\xca9\\xd2\\xeb?\\xf7\\xde\\x87Z%\\x9c\\xf4?p4|\\xf5\\xe3#\\xd7?\\xee2\\x81\\xca\\xe2\\xaf\\xd2?u\\x19\\xc9\\xad\\x87\\x80\\xf1\\xbf\\xf2\\xe4{H;\\x0e\\xd0?\\xee1}1/\\xe6\\xf6?DN\\x06\\xecAs\\xd1?\\x1e\\x07\\xf7\\xe4?\\x8d\\x03\\xc0\\x7fhHa\\xc7H\\xe4?\\xffB\\xcc\\xc4_o\\xf4?CD/\\xc2\\x11\\x1a\\xdf?\\xc2\"!\\xaf J\\xd3\\xbf\\xadi(\\xae\\xb3\\x90\\xe2\\xbf\\xa2\\r^\\xf9Q\\x0f\\xca\\xbf,\\x94\"\\xd3\\x94\\x89\\xe5\\xbf\\x8a4K\\x19\\xc6\\x1f\\x83??\\xa7\\xdc\\xf0\\xef\\xb1\\xf0?\\x1b\\x147\"fl\\xef?{N\\xf0\\xe2\\x12\\xa4\\xd6?\\x19}\\x1b\\xa3\\xdf\\xa0\\xc6\\xbf\\xc7;\\x85{E \\xe4\\xbf+\\xd7b\\xdck\\xec\\xb3?\\xb7\\x1e\\xdd#\\x0f[\\xde\\xbfp\\x86\\xcfO\\xf8X\\xef\\xbf\\x87\\xa7\\x1b\\xd8\\x8b\\xd7\\xe7\\xbf\\xad\\xd4\\x9aU\\xf5\\x8d\\xdb\\xbfXd\\xa8\\xde\\x9f\\xbe\\xf4\\xbf\\xba\\x0f\\x0eOk\"\\xf2?4\\xe3BKl\\xac\\xd2\\xbf\\xd5\\xc1_eM\\xac\\xea\\xbfoLi\\x0fx\\x89\\xd1\\xbf]\\xd1\\x89u\\xd5\\x8b\\xef?_\\x10\\x93\\x9e\\xfe%\\xd7?e\\xb7vd\\xf4H\\xf6\\xbf\\x89\\x12\\x8d\\x9er\\xc8\\xec?k\\x9buY\\x84\\x91\\xd2\\xbf\\xab\\xbcA\\xf6\\xc9n\\xe0?\\x89\\xe7\\x9a,\\x95\\xba\\xfc?l\\x08\\xef\\xab\\xff\\'\\xe1\\xbfl[\\xde&\\x8a\\x95\\xa7\\xbf\\x11\\x9f\\x03\\x85+\\xcc\\xfe?\\x95\\x9b%\\xf8\\x07\\x08\\xf2\\xbfk{\\x98YS\\xbb\\xe0\\xbf\\xad\\xc6xn\\x08\\x81\\xc6?I\\x15c%\\xac`\\xfd?Z4@\\x1f\\x16p\\xf9\\xbf'"
      ]
     },
     "execution_count": 4,
     "metadata": {},
     "output_type": "execute_result"
    }
   ],
   "source": [
    "#转化为bytes\n",
    "stock_change.tostring()"
   ]
  },
  {
   "cell_type": "code",
   "execution_count": 5,
   "metadata": {},
   "outputs": [
    {
     "name": "stdout",
     "output_type": "stream",
     "text": [
      "[[1 2 3 4]\n",
      " [3 4 5 6]]\n",
      "[1 2 3 4 5 6]\n",
      "{1, 2, 3, 4, 5, 6}\n"
     ]
    }
   ],
   "source": [
    "#数组的去重\n",
    "\n",
    "array=np.array([[1,2,3,4],[3,4,5,6]])\n",
    "print(array)\n",
    "#np.unique()\n",
    "array1=np.unique(array)\n",
    "print(array1)\n",
    "#一维化后set()\n",
    "array2=set(array.flatten())\n",
    "print(array2)"
   ]
  }
 ],
 "metadata": {
  "kernelspec": {
   "display_name": "Python 3",
   "language": "python",
   "name": "python3"
  },
  "language_info": {
   "codemirror_mode": {
    "name": "ipython",
    "version": 3
   },
   "file_extension": ".py",
   "mimetype": "text/x-python",
   "name": "python",
   "nbconvert_exporter": "python",
   "pygments_lexer": "ipython3",
   "version": "3.8.10"
  }
 },
 "nbformat": 4,
 "nbformat_minor": 4
}
