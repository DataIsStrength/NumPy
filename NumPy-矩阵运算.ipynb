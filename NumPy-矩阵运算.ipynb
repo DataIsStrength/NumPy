{
 "cells": [
  {
   "cell_type": "markdown",
   "metadata": {},
   "source": [
    "NumPy-矩阵运算"
   ]
  },
  {
   "cell_type": "code",
   "execution_count": 1,
   "metadata": {},
   "outputs": [],
   "source": [
    "#导入NumPy包\n",
    "import numpy as np"
   ]
  },
  {
   "cell_type": "code",
   "execution_count": 2,
   "metadata": {},
   "outputs": [
    {
     "name": "stdout",
     "output_type": "stream",
     "text": [
      "[[80 86]\n",
      " [82 80]\n",
      " [85 78]\n",
      " [90 90]\n",
      " [86 82]\n",
      " [82 90]\n",
      " [78 80]\n",
      " [92 94]]\n",
      "<class 'numpy.ndarray'>\n",
      "[[80 86]\n",
      " [82 80]\n",
      " [85 78]\n",
      " [90 90]\n",
      " [86 82]\n",
      " [82 90]\n",
      " [78 80]\n",
      " [92 94]]\n",
      "<class 'numpy.matrix'>\n"
     ]
    },
    {
     "data": {
      "text/plain": [
       "'\\n两者的区别在于矩阵必须是二维数组的形式，而ndarray可以是任意维度的。\\n'"
      ]
     },
     "execution_count": 2,
     "metadata": {},
     "output_type": "execute_result"
    }
   ],
   "source": [
    "#矩阵的存储\n",
    "\n",
    "#期中和期末成绩（8*2矩阵）\n",
    "#np.array()\n",
    "grade=np.array([[80,86],\n",
    "                  [82,80],\n",
    "                  [85,78],\n",
    "                  [90,90],\n",
    "                  [86,82],\n",
    "                  [82,90],\n",
    "                  [78,80],\n",
    "                  [92,94]])\n",
    "print(grade)\n",
    "print(type(grade))\n",
    "\n",
    "#np.mat()\n",
    "grade_mat=np.mat(grade)\n",
    "print(grade_mat)\n",
    "print(type(grade_mat))\n",
    "\n",
    "'''\n",
    "两者的区别在于矩阵必须是二维数组的形式，而ndarray可以是任意维度的。\n",
    "'''"
   ]
  },
  {
   "cell_type": "code",
   "execution_count": 3,
   "metadata": {},
   "outputs": [
    {
     "name": "stdout",
     "output_type": "stream",
     "text": [
      "[[84.2]\n",
      " [80.6]\n",
      " [80.1]\n",
      " [90. ]\n",
      " [83.2]\n",
      " [87.6]\n",
      " [79.4]\n",
      " [93.4]]\n",
      "[[84.2]\n",
      " [80.6]\n",
      " [80.1]\n",
      " [90. ]\n",
      " [83.2]\n",
      " [87.6]\n",
      " [79.4]\n",
      " [93.4]]\n",
      "[[84.2]\n",
      " [80.6]\n",
      " [80.1]\n",
      " [90. ]\n",
      " [83.2]\n",
      " [87.6]\n",
      " [79.4]\n",
      " [93.4]]\n",
      "[[84.2]\n",
      " [80.6]\n",
      " [80.1]\n",
      " [90. ]\n",
      " [83.2]\n",
      " [87.6]\n",
      " [79.4]\n",
      " [93.4]]\n"
     ]
    }
   ],
   "source": [
    "#矩阵乘法\n",
    "\n",
    "#成绩权重（2*1矩阵）\n",
    "weights=np.array([[0.3],[0.7]])\n",
    "\n",
    "#矩阵乘法计算总成绩\n",
    "\n",
    "#ndarray类型的矩阵乘法\n",
    "#np.matmul()\n",
    "print(np.matmul(grade, weights))\n",
    "#np.dot()\n",
    "print(np.dot(grade, weights))\n",
    "#用@计算矩阵乘法\n",
    "print(grade@weights)\n",
    "\n",
    "#matrix类型的矩阵乘法（直接相乘）\n",
    "weights_mat=np.mat(weights)\n",
    "print(grade_mat*weights_mat)"
   ]
  }
 ],
 "metadata": {
  "kernelspec": {
   "display_name": "Python 3",
   "language": "python",
   "name": "python3"
  },
  "language_info": {
   "codemirror_mode": {
    "name": "ipython",
    "version": 3
   },
   "file_extension": ".py",
   "mimetype": "text/x-python",
   "name": "python",
   "nbconvert_exporter": "python",
   "pygments_lexer": "ipython3",
   "version": "3.8.3"
  }
 },
 "nbformat": 4,
 "nbformat_minor": 4
}
