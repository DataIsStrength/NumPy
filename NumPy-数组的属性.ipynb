{
 "cells": [
  {
   "cell_type": "markdown",
   "metadata": {},
   "source": [
    "NumPy-数组的属性"
   ]
  },
  {
   "cell_type": "code",
   "execution_count": 1,
   "metadata": {},
   "outputs": [],
   "source": [
    "#导入NumPy包\n",
    "import numpy as np"
   ]
  },
  {
   "cell_type": "code",
   "execution_count": 2,
   "metadata": {},
   "outputs": [],
   "source": [
    "#生成n维数组\n",
    "score=np.array([[80,89,86,67,79],\n",
    "                [78,97,89,67,81],\n",
    "                [90,94,78,67,74],\n",
    "                [91,91,90,67,69],\n",
    "                [76,87,75,67,86],\n",
    "                [70,79,84,67,84],\n",
    "                [94,92,93,67,64],\n",
    "                [86,85,83,67,80]])"
   ]
  },
  {
   "cell_type": "code",
   "execution_count": 3,
   "metadata": {},
   "outputs": [
    {
     "name": "stdout",
     "output_type": "stream",
     "text": [
      "[[80 89 86 67 79]\n",
      " [78 97 89 67 81]\n",
      " [90 94 78 67 74]\n",
      " [91 91 90 67 69]\n",
      " [76 87 75 67 86]\n",
      " [70 79 84 67 84]\n",
      " [94 92 93 67 64]\n",
      " [86 85 83 67 80]]\n",
      "<class 'numpy.ndarray'>\n"
     ]
    }
   ],
   "source": [
    "print(score)\n",
    "print(type(score))"
   ]
  },
  {
   "cell_type": "code",
   "execution_count": 4,
   "metadata": {},
   "outputs": [
    {
     "name": "stdout",
     "output_type": "stream",
     "text": [
      "\n",
      " 0.007978677749633789 \n",
      " 0.0029921531677246094\n"
     ]
    }
   ],
   "source": [
    "#对比NumPy数组和python list的运算效率\n",
    "\n",
    "#导入random和time包\n",
    "import random\n",
    "import time\n",
    "\n",
    "#生成列表\n",
    "python_list=[]\n",
    "\n",
    "for i in range(1000000):\n",
    "    python_list.append(random.random())\n",
    "\n",
    "#生成NumPy数组\n",
    "ndarray_list=np.array(python_list)\n",
    "\n",
    "#python list求和并记录运算时间\n",
    "t1=time.time()\n",
    "a=sum(python_list)\n",
    "t2=time.time()\n",
    "d1=t2-t1\n",
    "\n",
    "#ndarray求和\n",
    "t3=time.time()\n",
    "b=np.sum(ndarray_list)\n",
    "t4=time.time()\n",
    "d2=t4-t3\n",
    "\n",
    "#对比运算时间\n",
    "print('\\n',d1,'\\n',d2)"
   ]
  },
  {
   "cell_type": "code",
   "execution_count": 5,
   "metadata": {},
   "outputs": [
    {
     "data": {
      "text/plain": [
       "'\\nNumPy数组的优势：\\n（1）存储方式：list支持不同类型的元素，通用性强，但是因此导致运算速度较慢，而ndarray只支持相同类型的元素，运算速度快；\\n（2）并行运算：ndarray支持并行化向量运算；\\n（3）底层语言：NumPy包的底层语言是C语言，不受Python解释器的限制。\\n'"
      ]
     },
     "execution_count": 5,
     "metadata": {},
     "output_type": "execute_result"
    }
   ],
   "source": [
    "'''\n",
    "NumPy数组的优势：\n",
    "（1）存储方式：list支持不同类型的元素，通用性强，但是因此导致运算速度较慢，而ndarray只支持相同类型的元素，运算速度快；\n",
    "（2）并行运算：ndarray支持并行化向量运算；\n",
    "（3）底层语言：NumPy包的底层语言是C语言，不受Python解释器的限制。\n",
    "'''"
   ]
  },
  {
   "cell_type": "code",
   "execution_count": 6,
   "metadata": {},
   "outputs": [
    {
     "name": "stdout",
     "output_type": "stream",
     "text": [
      "(8, 5)\n",
      "2\n",
      "40\n",
      "int32\n",
      "4\n"
     ]
    }
   ],
   "source": [
    "#NumPy数组的属性\n",
    "\n",
    "#数组的形状\n",
    "print(score.shape)\n",
    "\n",
    "#数组的维度\n",
    "print(score.ndim)\n",
    "\n",
    "#数组的元素数量\n",
    "print(score.size)\n",
    "\n",
    "#数组的类型，如果生成数组时没有指定类型，则整数数组默认类型为int64，浮点数数组默认类型为float64\n",
    "print(score.dtype)\n",
    "\n",
    "#数组的大小（单位：字节）\n",
    "print(score.itemsize)"
   ]
  },
  {
   "cell_type": "code",
   "execution_count": 7,
   "metadata": {},
   "outputs": [
    {
     "name": "stdout",
     "output_type": "stream",
     "text": [
      "\n",
      " (4,) \n",
      " (2, 3) \n",
      " (2, 2, 3)\n"
     ]
    }
   ],
   "source": [
    "#NumPy数组的形状\n",
    "\n",
    "#一维数组\n",
    "a=np.array([1,2,3,4])\n",
    "#二维数组\n",
    "b=np.array([[1,2,3],[4,5,6]])\n",
    "#三维数组\n",
    "c = np.array([[[1,2,3],[4,5,6]],[[1,2,3],[4,5,6]]])\n",
    "\n",
    "print('\\n',a.shape,'\\n',b.shape,'\\n',c.shape)"
   ]
  },
  {
   "cell_type": "code",
   "execution_count": 8,
   "metadata": {},
   "outputs": [
    {
     "name": "stdout",
     "output_type": "stream",
     "text": [
      "[1.1 2.2 3.3]\n",
      "[1.1 2.2 3.3]\n",
      "[b'Alpha' b'Beta' b'Gamma']\n"
     ]
    }
   ],
   "source": [
    "#NumPy数组的类型\n",
    "'''\n",
    "如果生成数组时不指定类型，则整数数组的类型是int64，浮点是数组的类型是float64。\n",
    "'''\n",
    "\n",
    "#创建数组的时指定类型\n",
    "#方法1\n",
    "print(np.array([1.1, 2.2, 3.3], dtype='float32'))\n",
    "#方法2\n",
    "print(np.array([1.1, 2.2, 3.3], dtype=np.float32))\n",
    "\n",
    "#字符串型数组（不常用，因为NumPy一般不用于处理字符串）\n",
    "print(np.array(['Alpha', 'Beta', 'Gamma'], dtype=np.string_))"
   ]
  }
 ],
 "metadata": {
  "kernelspec": {
   "display_name": "Python 3",
   "language": "python",
   "name": "python3"
  },
  "language_info": {
   "codemirror_mode": {
    "name": "ipython",
    "version": 3
   },
   "file_extension": ".py",
   "mimetype": "text/x-python",
   "name": "python",
   "nbconvert_exporter": "python",
   "pygments_lexer": "ipython3",
   "version": "3.8.10"
  }
 },
 "nbformat": 4,
 "nbformat_minor": 4
}
