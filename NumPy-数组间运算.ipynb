{
 "cells": [
  {
   "cell_type": "markdown",
   "metadata": {},
   "source": [
    "NumPy-数组间运算"
   ]
  },
  {
   "cell_type": "code",
   "execution_count": 1,
   "metadata": {},
   "outputs": [],
   "source": [
    "#导入NumPy包\n",
    "import numpy as np"
   ]
  },
  {
   "cell_type": "code",
   "execution_count": 2,
   "metadata": {},
   "outputs": [
    {
     "name": "stdout",
     "output_type": "stream",
     "text": [
      "[[2 3 4 5]\n",
      " [6 7 8 9]]\n",
      "[[10 20 30 40]\n",
      " [50 60 70 80]]\n",
      "[[0.1 0.2 0.3 0.4]\n",
      " [0.5 0.6 0.7 0.8]]\n"
     ]
    },
    {
     "data": {
      "text/plain": [
       "'\\n注意：python list无法实现以上运算。\\n'"
      ]
     },
     "execution_count": 2,
     "metadata": {},
     "output_type": "execute_result"
    }
   ],
   "source": [
    "arr=np.array([[1,2,3,4],[5,6,7,8]])\n",
    "\n",
    "#加\n",
    "print(arr+1)\n",
    "#乘\n",
    "print(arr*10)\n",
    "#除\n",
    "print(arr/10)\n",
    "\n",
    "'''\n",
    "注意：python list无法实现以上运算。\n",
    "'''"
   ]
  },
  {
   "cell_type": "code",
   "execution_count": 3,
   "metadata": {},
   "outputs": [
    {
     "name": "stdout",
     "output_type": "stream",
     "text": [
      "(2, 6)\n",
      "(2, 1)\n",
      "[[ 2  3  4  5  6  7]\n",
      " [ 9 10 11 12 13 14]]\n",
      "[[ 1  2  3  4  5  6]\n",
      " [14 16 18 20 22 24]]\n",
      "[[1.  2.  3.  4.  5.  6. ]\n",
      " [3.5 4.  4.5 5.  5.5 6. ]]\n"
     ]
    }
   ],
   "source": [
    "#NumPy广播机制\n",
    "\n",
    "'''\n",
    "广播原则：\n",
    "如果两个数组的后缘维度的轴长度相同或其中一方的轴长度为1，则认为它们是广播兼容的，广播会在缺失的和长度为1的维度上进行。\n",
    "比如形状为(1,2,3)的三维数组和形状为(2,3)，(2,1)和(1,3)的二维数组是广播兼容的。\n",
    "'''\n",
    "\n",
    "arr1=np.array([[1,2,3,4,5,6], [7,8,9,10,11,12]])\n",
    "arr2=np.array([[1],[2]])\n",
    "\n",
    "print(np.shape(arr1))\n",
    "print(np.shape(arr2))\n",
    "\n",
    "print(arr1+arr2)\n",
    "print(arr1*arr2)\n",
    "print(arr1/arr2)"
   ]
  }
 ],
 "metadata": {
  "kernelspec": {
   "display_name": "Python 3",
   "language": "python",
   "name": "python3"
  },
  "language_info": {
   "codemirror_mode": {
    "name": "ipython",
    "version": 3
   },
   "file_extension": ".py",
   "mimetype": "text/x-python",
   "name": "python",
   "nbconvert_exporter": "python",
   "pygments_lexer": "ipython3",
   "version": "3.8.10"
  }
 },
 "nbformat": 4,
 "nbformat_minor": 4
}
