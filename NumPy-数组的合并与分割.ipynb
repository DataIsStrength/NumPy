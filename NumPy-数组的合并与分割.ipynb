{
 "cells": [
  {
   "cell_type": "markdown",
   "metadata": {},
   "source": [
    "NumPy-数组的合并与分割"
   ]
  },
  {
   "cell_type": "code",
   "execution_count": 1,
   "metadata": {},
   "outputs": [],
   "source": [
    "#导入NumPy包\n",
    "import numpy as np"
   ]
  },
  {
   "cell_type": "code",
   "execution_count": 2,
   "metadata": {},
   "outputs": [
    {
     "name": "stdout",
     "output_type": "stream",
     "text": [
      "[1 2 3 4 5 6]\n",
      "[[1 4]\n",
      " [2 5]\n",
      " [3 6]]\n"
     ]
    }
   ],
   "source": [
    "#数组的水平合并\n",
    "\n",
    "a=np.array([1,2,3])\n",
    "b=np.array([4,5,6])\n",
    "print(np.hstack((a,b)))\n",
    "c=np.array([[1],[2],[3]])\n",
    "d=np.array([[4],[5],[6]])\n",
    "print(np.hstack((c,d)))"
   ]
  },
  {
   "cell_type": "code",
   "execution_count": 3,
   "metadata": {},
   "outputs": [
    {
     "name": "stdout",
     "output_type": "stream",
     "text": [
      "[[1 2 3]\n",
      " [4 5 6]]\n",
      "[[1]\n",
      " [2]\n",
      " [3]\n",
      " [4]\n",
      " [5]\n",
      " [6]]\n"
     ]
    }
   ],
   "source": [
    "#数组的垂直合并\n",
    "\n",
    "a=np.array([1,2,3])\n",
    "b=np.array([4,5,6])\n",
    "print(np.vstack((a,b)))\n",
    "c=np.array([[1],[2],[3]])\n",
    "d=np.array([[4],[5],[6]])\n",
    "print(np.vstack((c,d)))"
   ]
  },
  {
   "cell_type": "code",
   "execution_count": 4,
   "metadata": {},
   "outputs": [
    {
     "name": "stdout",
     "output_type": "stream",
     "text": [
      "[[1 2 5]\n",
      " [3 4 6]]\n",
      "[[1 2]\n",
      " [3 4]\n",
      " [5 6]]\n"
     ]
    }
   ],
   "source": [
    "#np.concatenate()\n",
    "\n",
    "a=np.array([[1,2],[3,4]])\n",
    "b=np.array([[5,6]])\n",
    "#数组的水平合并\n",
    "print(np.concatenate((a,b.T),axis=1))\n",
    "#数组的垂直合并\n",
    "print(np.concatenate((a,b),axis=0))"
   ]
  },
  {
   "cell_type": "code",
   "execution_count": 5,
   "metadata": {},
   "outputs": [
    {
     "name": "stdout",
     "output_type": "stream",
     "text": [
      "[0 1 2 3 4 5 6 7 8]\n",
      "[array([0, 1, 2]), array([3, 4, 5]), array([6, 7, 8])]\n",
      "[array([0, 1, 2]), array([3, 4]), array([5]), array([6, 7, 8]), array([], dtype=int32)]\n"
     ]
    }
   ],
   "source": [
    "#数组的分割\n",
    "\n",
    "#生成等差数组\n",
    "x=np.arange(9)\n",
    "print(x)\n",
    "\n",
    "#等长度分割\n",
    "print(np.split(x,3))\n",
    "\n",
    "#按索引位置分割\n",
    "print(np.split(x,[3,5,6,9]))"
   ]
  }
 ],
 "metadata": {
  "kernelspec": {
   "display_name": "Python 3",
   "language": "python",
   "name": "python3"
  },
  "language_info": {
   "codemirror_mode": {
    "name": "ipython",
    "version": 3
   },
   "file_extension": ".py",
   "mimetype": "text/x-python",
   "name": "python",
   "nbconvert_exporter": "python",
   "pygments_lexer": "ipython3",
   "version": "3.8.10"
  }
 },
 "nbformat": 4,
 "nbformat_minor": 4
}
